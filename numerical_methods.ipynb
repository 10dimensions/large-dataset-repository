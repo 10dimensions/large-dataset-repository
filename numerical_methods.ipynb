{
  "nbformat": 4,
  "nbformat_minor": 0,
  "metadata": {
    "colab": {
      "name": "numerical_methods.ipynb",
      "provenance": [],
      "toc_visible": true,
      "authorship_tag": "ABX9TyNAD0zKoDRfOuWD5rqQxCFw",
      "include_colab_link": true
    },
    "kernelspec": {
      "name": "python3",
      "display_name": "Python 3"
    },
    "accelerator": "GPU"
  },
  "cells": [
    {
      "cell_type": "markdown",
      "metadata": {
        "id": "view-in-github",
        "colab_type": "text"
      },
      "source": [
        "<a href=\"https://colab.research.google.com/github/10dimensions/large-notebook-repository/blob/master/numerical_methods.ipynb\" target=\"_parent\"><img src=\"https://colab.research.google.com/assets/colab-badge.svg\" alt=\"Open In Colab\"/></a>"
      ]
    },
    {
      "cell_type": "code",
      "metadata": {
        "id": "0y-lIdw7oxfp",
        "colab_type": "code",
        "colab": {}
      },
      "source": [
        "import math\n",
        "import numpy as np"
      ],
      "execution_count": 0,
      "outputs": []
    },
    {
      "cell_type": "code",
      "metadata": {
        "id": "rm-76TWeG0HS",
        "colab_type": "code",
        "colab": {}
      },
      "source": [
        "import matplotlib.pyplot as plt\n",
        "from matplotlib.patches import Circle\n",
        "\n",
        "from scipy.constants import G"
      ],
      "execution_count": 0,
      "outputs": []
    },
    {
      "cell_type": "markdown",
      "metadata": {
        "id": "n1SaYkH2B5Lv",
        "colab_type": "text"
      },
      "source": [
        "### Runge-Kutta 4th Order (RK4)"
      ]
    },
    {
      "cell_type": "code",
      "metadata": {
        "id": "_EEaggM9FOFj",
        "colab_type": "code",
        "colab": {}
      },
      "source": [
        "# Python program to implement Runge Kutta method \n",
        "# A sample differential equation \"dy / dx = (x - y)/2\" \n",
        "def dydx(x, y): \n",
        "    return ((x - y)/2) "
      ],
      "execution_count": 0,
      "outputs": []
    },
    {
      "cell_type": "code",
      "metadata": {
        "id": "HWMtTCXoFRVR",
        "colab_type": "code",
        "colab": {}
      },
      "source": [
        "# Finds value of y for a given x using step size h \n",
        "# and initial value y0 at x0. \n",
        "def rungeKutta(x0, y0, x, h): \n",
        "    # Count number of iterations using step size or \n",
        "    # step height h \n",
        "    n = (int)((x - x0)/h)  \n",
        "    # Iterate for number of iterations \n",
        "    y = y0 \n",
        "    for i in range(1, n + 1): \n",
        "        \"Apply Runge Kutta Formulas to find next value of y\"\n",
        "        k1 = h * dydx(x0, y) \n",
        "        k2 = h * dydx(x0 + 0.5 * h, y + 0.5 * k1) \n",
        "        k3 = h * dydx(x0 + 0.5 * h, y + 0.5 * k2) \n",
        "        k4 = h * dydx(x0 + h, y + k3) \n",
        "  \n",
        "        # Update next value of y \n",
        "        y = y + (1.0 / 6.0)*(k1 + 2 * k2 + 2 * k3 + k4) \n",
        "  \n",
        "        # Update next value of x \n",
        "        x0 = x0 + h \n",
        "    return y "
      ],
      "execution_count": 0,
      "outputs": []
    },
    {
      "cell_type": "code",
      "metadata": {
        "id": "l9tts9cpFVCW",
        "colab_type": "code",
        "colab": {
          "base_uri": "https://localhost:8080/",
          "height": 35
        },
        "outputId": "03061508-2c9f-415b-e862-f70974125053"
      },
      "source": [
        "# Test 1\n",
        "x0 = 0\n",
        "y = 1\n",
        "x = 2\n",
        "h = 0.2\n",
        "print (\"The value of y at x is: \" + str( rungeKutta(x0, y, x, h) ))"
      ],
      "execution_count": 24,
      "outputs": [
        {
          "output_type": "stream",
          "text": [
            "The value of y at x is: 1.1036393232374955\n"
          ],
          "name": "stdout"
        }
      ]
    },
    {
      "cell_type": "code",
      "metadata": {
        "id": "TCPj7D3LB-sq",
        "colab_type": "code",
        "colab": {}
      },
      "source": [
        "# Test 2\n",
        "\n",
        "def d_simple_pendulum(y, x):\n",
        "  \"\"\" use time units omega*t->t\n",
        "  dˆ2 u/dtˆ2 = - omegaˆ2 u is written as\n",
        "  y = [u(t), du/dt]\n",
        "  d y/dt = [du/dt, dˆ2u/dt = -u]\n",
        "  Exact solution is y[0,1] = [xmax*sin(t), xmax*cos(t)]\n",
        "  \"\"\"\n",
        "  return array([y[1],-y[0]])"
      ],
      "execution_count": 0,
      "outputs": []
    },
    {
      "cell_type": "markdown",
      "metadata": {
        "id": "1SnjvLlBFwH3",
        "colab_type": "text"
      },
      "source": [
        "RK Integrators can be used to simulate rocket trajectory, as it is primarily an ODE Solver.\n",
        "\n",
        "Preodminantly used in interplanetary course-correction maneuvers, yet also finds applications in fluid dynamics."
      ]
    },
    {
      "cell_type": "markdown",
      "metadata": {
        "id": "HMpJPmk-vlhV",
        "colab_type": "text"
      },
      "source": [
        "### Ascent Vehicle Equations of Motion"
      ]
    },
    {
      "cell_type": "markdown",
      "metadata": {
        "id": "gFacha7O7kA7",
        "colab_type": "text"
      },
      "source": [
        "#### Single Stage to Orbit Ascent Flight\n",
        "\n",
        "\n",
        "\n",
        "At a simplified level, neglecting losses\n",
        "\n",
        "Force, F = ṁ x c,\n",
        "\n",
        "where ṁ = rate of change of mass (flow rate);\n",
        "      c = relative velocity of engine exhaust\n",
        "\n",
        "m x (dv/dt) = -c (dm/dt) - mg\n",
        "\n",
        "=> dv = -c (dm/m) - g(dt)\n",
        "\n",
        "v(t)\n",
        "= -∫ c(h)\n",
        "dm/m -∫g(h)dt; \n",
        "\n",
        "h(t)\n",
        "= ∫v dt\n",
        "\n",
        "\n",
        "####v - v0 = -c ln( m(t)/m0 )  - gt\n",
        "----------------------\n",
        "\n",
        "Adding the effect of Atmospheric Drag and Gravitational Losses,\n",
        "\n",
        "\n",
        "####v - v0 = -c ln( m(t)/m0 )  - g/a0 (1 - m(t)/m0)\n",
        "----------------------\n",
        "\n",
        "Thrust-to-Weight Effect Representation, directly the depends the first co-efficient with a multiplier of [ 1/(T/W) ].\n",
        "\n",
        "----------------------\n",
        "\n",
        "\n",
        "Dynamic Pressure:\n",
        "####q = 1/2 x ρ x (v^2)\n",
        "\n",
        "ρ is atmospheric density relative to altitide,\n",
        "v is velocity of vehicle\n",
        "\n"
      ]
    },
    {
      "cell_type": "code",
      "metadata": {
        "id": "tvVOu99FG5dn",
        "colab_type": "code",
        "colab": {}
      },
      "source": [
        "def calc_a(r):\n",
        "    \"\"\"Calculate the acceleration of the rocket due to gravity at position r.\"\"\"\n",
        "    r3 = np.hypot(*r)**3\n",
        "    return -fac * r / r3"
      ],
      "execution_count": 0,
      "outputs": []
    },
    {
      "cell_type": "code",
      "metadata": {
        "id": "Y0ylm8fIG-Jp",
        "colab_type": "code",
        "colab": {}
      },
      "source": [
        "def get_trajectory(h, launch_speed, launch_angle):\n",
        "    \"\"\"Do the (very simple) numerical integration of the equation of motion.\n",
        "\n",
        "    The satellite is released at altitude h (km) with speed launch_speed (km/s)\n",
        "    at an angle launch_angle (degrees) from the normal to the planet's surface.\n",
        "\n",
        "    \"\"\"\n",
        "\n",
        "    v0 = launch_speed\n",
        "    theta = np.radians(launch_angle)\n",
        "\n",
        "    N = 100000\n",
        "    tgrid, dt = np.linspace(0, 15000, N, retstep=True)\n",
        "    tr = np.empty((N,2))\n",
        "    v = np.empty((N,2))\n",
        "    # Initial rocket position, velocity and acceleration\n",
        "    tr[0] = 0, R + h\n",
        "    v[0] = v0 * np.sin(theta), v0 * np.cos(theta)\n",
        "    a = calc_a(tr[0])\n",
        "\n",
        "    for i, t in enumerate(tgrid[1:]):\n",
        "        # Calculate the rocket's next position based on its instantaneous velocity.\n",
        "        r = tr[i] + v[i]*dt\n",
        "        if np.hypot(*r) < R:\n",
        "            # Our rocket crashed.\n",
        "            break\n",
        "        # Update the rocket's position, velocity and acceleration.\n",
        "        tr[i+1] = r\n",
        "        v[i+1] = v[i] + a*dt\n",
        "        a = calc_a(tr[i+1])\n",
        "\n",
        "    return tr[:i+1]"
      ],
      "execution_count": 0,
      "outputs": []
    },
    {
      "cell_type": "code",
      "metadata": {
        "id": "LIrYeb2JHRLW",
        "colab_type": "code",
        "colab": {}
      },
      "source": [
        "def plot_trajectory(ax, tr):\n",
        "    \"\"\"Plot the trajectory tr on Axes ax.\"\"\"\n",
        "    earth_circle = Circle((0,0), R, facecolor=(0.9,0.9,0.9))\n",
        "    ax.set_facecolor('k')\n",
        "    ax.add_patch(earth_circle)\n",
        "    ax.plot(*tr.T, c='y')\n",
        "    # Make sure our planet looks circular!\n",
        "    ax.axis('equal')\n",
        "\n",
        "    # Set Axes limits to trajectory coordinate range, with some padding.\n",
        "    xmin, xmax = min(tr.T[0]), max(tr.T[0])\n",
        "    ymin, ymax = min(tr.T[1]), max(tr.T[1])\n",
        "    dx, dy = xmax - xmin, ymax - ymin\n",
        "    PAD = 0.05\n",
        "    ax.set_xlim(xmin - PAD*dx, xmax + PAD*dx)\n",
        "    ax.set_ylim(ymin - PAD*dy, ymax + PAD*dy)"
      ],
      "execution_count": 0,
      "outputs": []
    },
    {
      "cell_type": "code",
      "metadata": {
        "id": "eY5fp_KIGpE7",
        "colab_type": "code",
        "colab": {
          "base_uri": "https://localhost:8080/",
          "height": 297
        },
        "outputId": "3c76f11f-5bda-4ef1-d775-14de49ea1d3a"
      },
      "source": [
        "\n",
        "# Convert Newtonian constant of gravitation from m3.kg-1.s-2 to km3.kg-1.s-2\n",
        "G /= 1.e9\n",
        "\n",
        "# Planet radius, km\n",
        "R = 6371\n",
        "# Planet mass, kg\n",
        "M = 5.9722e24\n",
        "\n",
        "fac = G * M\n",
        "\n",
        "\n",
        "# Rocket initial speed (km.s-1), angle from local vertical (deg)\n",
        "launch_speed, launch_angle = 2, 90\n",
        "# Rocket launch altitute (km)\n",
        "h = 100\n",
        "tr = get_trajectory(h, launch_speed, launch_angle)\n",
        "\n",
        "\n",
        "fig, axes = plt.subplots(nrows=2, ncols=2)\n",
        "for i, launch_speed in enumerate([3, 6.5, 7.7, 8]):\n",
        "    tr = get_trajectory(h, launch_speed, launch_angle)\n",
        "    ax = axes[i//2,i%2]\n",
        "    plot_trajectory(ax, tr)\n",
        "    ax.set_title('{} km/s'.format(launch_speed))\n",
        "plt.tight_layout()\n",
        "\n",
        "plt.savefig('orbit.png')\n",
        "plt.show()"
      ],
      "execution_count": 29,
      "outputs": [
        {
          "output_type": "display_data",
          "data": {
            "image/png": "[encoded data removed]",
            "text/plain": [
              "<Figure size 432x288 with 4 Axes>"
            ]
          },
          "metadata": {
            "tags": [],
            "needs_background": "light"
          }
        }
      ]
    },
    {
      "cell_type": "markdown",
      "metadata": {
        "id": "QZR-tKonvfNR",
        "colab_type": "text"
      },
      "source": [
        "### Kepler's Equations"
      ]
    },
    {
      "cell_type": "markdown",
      "metadata": {
        "id": "W40DcaWttCaf",
        "colab_type": "text"
      },
      "source": [
        "Kepler's equation gives the relation between the polar coordinates of a celestial body (such as a planet) and the time elapsed from a given initial point. Kepler's equation is of fundamental importance in celestial mechanics, but cannot be directly inverted in terms of simple functions in order to determine where the planet will be at a given time.\n",
        "\n",
        "Let M be the mean anomaly (a parameterization of time) and E the eccentric anomaly (a parameterization of polar angle) of a body orbiting on an ellipse with eccentricity e, then\n",
        "\n",
        "\n",
        "> M=E-e.sinE\n",
        "\n",
        "\n",
        "For M not a multiple of pi, Kepler's equation has a unique solution, but is a transcendental equation and so cannot be inverted and solved directly for E given an arbitrary M. "
      ]
    },
    {
      "cell_type": "markdown",
      "metadata": {
        "id": "rIkXvdMlus0p",
        "colab_type": "text"
      },
      "source": [
        "Some of the techniques include:\n",
        "\n",
        "- Writing E as power series of e, where coefficients are given by Lagrange inverse theorem.\n",
        "\n",
        "- A series solution in Bessel function of the first kind. This series converges for all e<1 like a geometric series\n",
        "\n",
        "- And Iterative methods such as Newton's method"
      ]
    },
    {
      "cell_type": "code",
      "metadata": {
        "id": "8EaNROUxoDkv",
        "colab_type": "code",
        "colab": {}
      },
      "source": [
        "def EccAnom(ec,m,dp):\n",
        "\n",
        "  # arguments:\n",
        "  # ec=eccentricity, m=mean anomaly,\n",
        "  # dp=number of decimal places\n",
        "\n",
        "  pi=math.pi\n",
        "  K=pi/180.0\n",
        "\n",
        "  maxIter=30\n",
        "  i=0;\n",
        "\n",
        "  delta=math.pow(10,-dp)\n",
        "\n",
        "  E=None\n",
        "  F=None\n",
        "\n",
        "  m=m/360.0\n",
        "\n",
        "  m=2.0*pi*(m-math.floor(m))\n",
        "\n",
        "  if (ec<0.8): \n",
        "    E=m\n",
        "  else:\n",
        "    E=pi\n",
        "\n",
        "  F = E - ec*math.sin(m) - m\n",
        "\n",
        "  while ( (abs(F)>delta) and (i<maxIter) ):\n",
        "\n",
        "    E = E - F/(1.0-ec*math.cos(E))\n",
        "    F = E - ec*math.sin(E) - m\n",
        "\n",
        "    i = i + 1\n",
        "\n",
        "\n",
        "\n",
        "  E=E/K\n",
        "\n",
        "  return round(E*math.pow(10,dp))/math.pow(10,dp)\n"
      ],
      "execution_count": 0,
      "outputs": []
    },
    {
      "cell_type": "code",
      "metadata": {
        "id": "qbw-RHbXomrD",
        "colab_type": "code",
        "colab": {}
      },
      "source": [
        "def TrueAnom(ec,E,dp):\n",
        "\n",
        "  K=math.pi/180.0;\n",
        "  S=math.sin(E);\n",
        "\n",
        "  C=Math.cos(E);\n",
        "\n",
        "  fak=math.sqrt(1.0-ec*ec);\n",
        "\n",
        "  phi=math.atan2(fak*S,C-ec)/K;\n",
        "\n",
        "  return round(phi*math.pow(10,dp))/math.pow(10,dp);"
      ],
      "execution_count": 0,
      "outputs": []
    },
    {
      "cell_type": "code",
      "metadata": {
        "id": "IiaY84FGoZ9J",
        "colab_type": "code",
        "colab": {}
      },
      "source": [
        "def position(a, ec,E):\n",
        "\n",
        "  # a=semimajor axis, ec=eccentricity, E=eccentric anomaly\n",
        "  # x,y = coordinates of the planet with respect to the Sun\n",
        "\n",
        "  C = math.cos(E);\n",
        "  S = math.sin(E);\n",
        "  x = a*(C-ec);\n",
        "  y = a*math.sqrt(1.0-ec*ec)*S;"
      ],
      "execution_count": 0,
      "outputs": []
    },
    {
      "cell_type": "code",
      "metadata": {
        "id": "G3wxergHr9av",
        "colab_type": "code",
        "colab": {
          "base_uri": "https://localhost:8080/",
          "height": 35
        },
        "outputId": "59fcc5f3-e18f-4f68-ef11-4a789f4f889b"
      },
      "source": [
        "#Test Case 1\n",
        "\n",
        "M = np.deg2rad(120)\n",
        "e = 0.9\n",
        "\n",
        "E = EccAnom(e, M, 1)\n",
        "\n",
        "print (E)"
      ],
      "execution_count": 18,
      "outputs": [
        {
          "output_type": "stream",
          "text": [
            "31.3\n"
          ],
          "name": "stdout"
        }
      ]
    }
  ]
}