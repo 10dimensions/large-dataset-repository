{
  "nbformat": 4,
  "nbformat_minor": 0,
  "metadata": {
    "colab": {
      "provenance": [],
      "collapsed_sections": [],
      "include_colab_link": true
    },
    "kernelspec": {
      "name": "python3",
      "display_name": "Python 3"
    },
    "language_info": {
      "name": "python"
    }
  },
  "cells": [
    {
      "cell_type": "markdown",
      "metadata": {
        "id": "view-in-github",
        "colab_type": "text"
      },
      "source": [
        "<a href=\"https://colab.research.google.com/github/10dimensions/large-notebook-repository/blob/master/%5BCoAuthor%5D_2_Identifying_authors.ipynb\" target=\"_parent\"><img src=\"https://colab.research.google.com/assets/colab-badge.svg\" alt=\"Open In Colab\"/></a>"
      ]
    },
    {
      "cell_type": "markdown",
      "source": [
        "# Identifying authors of sentences\n",
        "\n",
        "**Goal: Identify authors (writer, GPT-3, or both) of sentences in the final texts**\n",
        "\n",
        "Steps\n",
        "0. Preparation: Download and read CoAuthor\n",
        "1. Apply operations\n",
        "2. Classify authors\n",
        "3. Populate `currentDoc` for all events (optional)"
      ],
      "metadata": {
        "id": "B687rXzEboCl"
      }
    },
    {
      "cell_type": "markdown",
      "source": [
        "## 0. Preparation: Download and read CoAuthor\n",
        "\n",
        "If you are not familiar with this step, please go through the steps in [1. Getting started](https://colab.research.google.com/drive/1nUGXP9l_jelbB4X65J0ivUvLgQz1RK1C?usp=sharing)."
      ],
      "metadata": {
        "id": "_YM60BK2byjh"
      }
    },
    {
      "cell_type": "code",
      "source": [
        "!wget https://cs.stanford.edu/~minalee/zip/chi2022-coauthor-v1.0.zip\n",
        "!unzip -q chi2022-coauthor-v1.0.zip\n",
        "!rm chi2022-coauthor-v1.0.zip"
      ],
      "metadata": {
        "id": "2eKtLkKmeK2q",
        "colab": {
          "base_uri": "https://localhost:8080/"
        },
        "outputId": "615e422d-56b9-4909-b3d3-758191f95ad7"
      },
      "execution_count": null,
      "outputs": [
        {
          "output_type": "stream",
          "name": "stdout",
          "text": [
            "--2022-03-09 06:59:07--  https://cs.stanford.edu/~minalee/zip/chi2022-coauthor-v1.0.zip\n",
            "Resolving cs.stanford.edu (cs.stanford.edu)... 171.64.64.64\n",
            "Connecting to cs.stanford.edu (cs.stanford.edu)|171.64.64.64|:443... connected.\n",
            "HTTP request sent, awaiting response... 200 OK\n",
            "Length: 49956179 (48M) [application/zip]\n",
            "Saving to: ‘chi2022-coauthor-v1.0.zip’\n",
            "\n",
            "chi2022-coauthor-v1 100%[===================>]  47.64M  40.9MB/s    in 1.2s    \n",
            "\n",
            "2022-03-09 06:59:09 (40.9 MB/s) - ‘chi2022-coauthor-v1.0.zip’ saved [49956179/49956179]\n",
            "\n",
            "replace coauthor-v1.0/e0435f4cf6fc435c872ffc5b66b66b0c.jsonl? [y]es, [n]o, [A]ll, [N]one, [r]ename: N\n"
          ]
        }
      ]
    },
    {
      "cell_type": "code",
      "execution_count": null,
      "metadata": {
        "id": "WVRPkDxzbfxU"
      },
      "outputs": [],
      "source": [
        "import os\n",
        "import json\n",
        "\n",
        "\n",
        "def find_writing_sessions(dataset_dir):\n",
        "    paths = [\n",
        "        os.path.join(dataset_dir, path)\n",
        "        for path in os.listdir(dataset_dir) \n",
        "        if path.endswith('jsonl')\n",
        "    ]\n",
        "    return paths\n",
        "\n",
        "\n",
        "def read_writing_session(path):\n",
        "    events = []\n",
        "    with open(path, 'r') as f:\n",
        "        for event in f:\n",
        "            events.append(json.loads(event))\n",
        "    return events\n",
        "\n",
        "\n",
        "dataset_dir = './coauthor-v1.0'\n",
        "paths = find_writing_sessions(dataset_dir)\n",
        "events = read_writing_session(paths[0])"
      ]
    },
    {
      "cell_type": "code",
      "source": [
        "events = read_writing_session(paths[1])"
      ],
      "metadata": {
        "id": "36L0C9Pfq1CV"
      },
      "execution_count": null,
      "outputs": []
    },
    {
      "cell_type": "markdown",
      "source": [
        "## 1. Apply operations\n",
        "\n",
        "Apply a list of operations in Quill.\n",
        "\n",
        "* Retain: Keep the next number of characters, without modification\n",
        "* Insert: Insert the specified content at the current location\n",
        "* Delete: Delete the next number of characters\n",
        "\n",
        "For more detail, please refer to [the Quill documentation](https://quilljs.com/docs/delta/#changes)."
      ],
      "metadata": {
        "id": "wm-wwy2zflOd"
      }
    },
    {
      "cell_type": "code",
      "source": [
        "def apply_ops(doc, mask, ops, source):\n",
        "    original_doc = doc\n",
        "    original_mask = mask\n",
        "\n",
        "    new_doc = ''\n",
        "    new_mask = ''\n",
        "    for i, op in enumerate(ops):\n",
        "\n",
        "        # Handle retain operation\n",
        "        if 'retain' in op:\n",
        "            num_char = op['retain']\n",
        "\n",
        "            retain_doc = original_doc[:num_char]\n",
        "            retain_mask = original_mask[:num_char]\n",
        "\n",
        "            original_doc = original_doc[num_char:]\n",
        "            original_mask = original_mask[num_char:]\n",
        "\n",
        "            new_doc = new_doc + retain_doc\n",
        "            new_mask = new_mask + retain_mask\n",
        "\n",
        "        # Handle insert operation\n",
        "        elif 'insert' in op:\n",
        "            insert_doc = op['insert']\n",
        "\n",
        "            insert_mask = 'U' * len(insert_doc)  # User\n",
        "            if source == 'api':\n",
        "                insert_mask = 'A' * len(insert_doc)  # API\n",
        "\n",
        "            if isinstance(insert_doc, dict):\n",
        "                if 'image' in insert_doc:\n",
        "                    print('Skipping invalid object insertion (image)')\n",
        "                else:\n",
        "                    print('Ignore invalid insertions:', op)\n",
        "                    # Ignore other invalid insertions\n",
        "                    # Debug if necessary\n",
        "                    pass\n",
        "            else:\n",
        "                new_doc = new_doc + insert_doc\n",
        "                new_mask = new_mask + insert_mask\n",
        "\n",
        "        # Handle delete operation\n",
        "        elif 'delete' in op:\n",
        "            num_char = op['delete']\n",
        "\n",
        "            if original_doc:\n",
        "                original_doc = original_doc[num_char:]\n",
        "                original_mask = original_mask[num_char:]\n",
        "            else:\n",
        "                new_doc = new_doc[:-num_char]\n",
        "                new_mask = new_mask[:-num_char]\n",
        "\n",
        "        else:\n",
        "            # Ignore other operations\n",
        "            # Debug if necessary\n",
        "            print('Ignore other operations:', op)\n",
        "            pass\n",
        "\n",
        "    final_doc = new_doc + original_doc\n",
        "    final_mask = new_mask + original_mask\n",
        "    return final_doc, final_mask"
      ],
      "metadata": {
        "id": "5fx7qFyXhHQC"
      },
      "execution_count": null,
      "outputs": []
    },
    {
      "cell_type": "code",
      "source": [
        "def get_text_and_mask(events, event_id, remove_prompt=True):\n",
        "    prompt = events[0]['currentDoc'].strip()\n",
        "\n",
        "    text = prompt\n",
        "    mask = 'P' * len(prompt)  # Prompt\n",
        "    for event in events[:event_id]:\n",
        "        if 'ops' not in event['textDelta']:\n",
        "            continue\n",
        "        ops = event['textDelta']['ops']\n",
        "        source = event['eventSource']\n",
        "        text, mask = apply_ops(text, mask, ops, source)\n",
        "\n",
        "    if remove_prompt:\n",
        "        if 'P' not in mask:\n",
        "            print('=' * 80)\n",
        "            print('Could not find the prompt in the final text')\n",
        "            print('-' * 80)\n",
        "            print('Prompt:', prompt)\n",
        "            print('-' * 80)\n",
        "            print('Final text:', text)\n",
        "        else:\n",
        "            end_index = mask.rindex('P')\n",
        "            text = text[end_index + 1:]\n",
        "            mask = mask[end_index + 1:]\n",
        "\n",
        "    return text, mask"
      ],
      "metadata": {
        "id": "Qnedud7nhHUB"
      },
      "execution_count": null,
      "outputs": []
    },
    {
      "cell_type": "markdown",
      "source": [
        "For each character in *texts*, there is a corresponding `P,` `A,` or `U` character in *masks*.\n",
        "`P` indicates that the character is a part of the original prompt, `A` indicates that the character is written by API, and `U` indicates that it is written by User.\n",
        "Therefore, a text and its corresponding mask always have the same length.\n",
        "\n",
        "Take a look at the event-by-event printing of texts and masks to see what's going on.\n",
        "You can see that at the end of the sentence, as the user inserts `\\n` (event 4), `\\n` (event 5) and `M` (event 6), `U` is appended at the end of the mask to indicate the three characters are written by User, i.e. `UUU` (event 6)."
      ],
      "metadata": {
        "id": "pQ6HNC_2rfnS"
      }
    },
    {
      "cell_type": "code",
      "source": [
        "for i in range(7):\n",
        "    text, mask = get_text_and_mask(events, i, remove_prompt=False)\n",
        "    print(i, events[i]['eventName'])  # Event ID and name\n",
        "    print('Text:', text)  # Current text\n",
        "    print('Mask:', mask)  # Current mask\n",
        "    print('-' * 60)"
      ],
      "metadata": {
        "colab": {
          "base_uri": "https://localhost:8080/"
        },
        "id": "dJ3NHRzWhFSe",
        "outputId": "7342374c-8235-42a2-b901-db66e97e0688"
      },
      "execution_count": null,
      "outputs": [
        {
          "output_type": "stream",
          "name": "stdout",
          "text": [
            "0 system-initialize\n",
            "Text: All of the \"#1 Dad\" mugs in the world change to show the actual ranking of Dads suddenly.\n",
            "Mask: PPPPPPPPPPPPPPPPPPPPPPPPPPPPPPPPPPPPPPPPPPPPPPPPPPPPPPPPPPPPPPPPPPPPPPPPPPPPPPPPPPPPPPPPP\n",
            "------------------------------------------------------------\n",
            "1 cursor-backward\n",
            "Text: All of the \"#1 Dad\" mugs in the world change to show the actual ranking of Dads suddenly.\n",
            "Mask: PPPPPPPPPPPPPPPPPPPPPPPPPPPPPPPPPPPPPPPPPPPPPPPPPPPPPPPPPPPPPPPPPPPPPPPPPPPPPPPPPPPPPPPPP\n",
            "------------------------------------------------------------\n",
            "2 cursor-forward\n",
            "Text: All of the \"#1 Dad\" mugs in the world change to show the actual ranking of Dads suddenly.\n",
            "Mask: PPPPPPPPPPPPPPPPPPPPPPPPPPPPPPPPPPPPPPPPPPPPPPPPPPPPPPPPPPPPPPPPPPPPPPPPPPPPPPPPPPPPPPPPP\n",
            "------------------------------------------------------------\n",
            "3 text-insert\n",
            "Text: All of the \"#1 Dad\" mugs in the world change to show the actual ranking of Dads suddenly.\n",
            "Mask: PPPPPPPPPPPPPPPPPPPPPPPPPPPPPPPPPPPPPPPPPPPPPPPPPPPPPPPPPPPPPPPPPPPPPPPPPPPPPPPPPPPPPPPPP\n",
            "------------------------------------------------------------\n",
            "4 text-insert\n",
            "Text: All of the \"#1 Dad\" mugs in the world change to show the actual ranking of Dads suddenly.\n",
            "\n",
            "Mask: PPPPPPPPPPPPPPPPPPPPPPPPPPPPPPPPPPPPPPPPPPPPPPPPPPPPPPPPPPPPPPPPPPPPPPPPPPPPPPPPPPPPPPPPPU\n",
            "------------------------------------------------------------\n",
            "5 text-insert\n",
            "Text: All of the \"#1 Dad\" mugs in the world change to show the actual ranking of Dads suddenly.\n",
            "\n",
            "\n",
            "Mask: PPPPPPPPPPPPPPPPPPPPPPPPPPPPPPPPPPPPPPPPPPPPPPPPPPPPPPPPPPPPPPPPPPPPPPPPPPPPPPPPPPPPPPPPPUU\n",
            "------------------------------------------------------------\n",
            "6 text-insert\n",
            "Text: All of the \"#1 Dad\" mugs in the world change to show the actual ranking of Dads suddenly.\n",
            "\n",
            "M\n",
            "Mask: PPPPPPPPPPPPPPPPPPPPPPPPPPPPPPPPPPPPPPPPPPPPPPPPPPPPPPPPPPPPPPPPPPPPPPPPPPPPPPPPPPPPPPPPPUUU\n",
            "------------------------------------------------------------\n"
          ]
        }
      ]
    },
    {
      "cell_type": "markdown",
      "source": [
        "To get the mask for the final text:"
      ],
      "metadata": {
        "id": "kkNmHNz_tcQS"
      }
    },
    {
      "cell_type": "code",
      "source": [
        "text, mask = get_text_and_mask(events, len(events), remove_prompt=False)\n",
        "print(text)\n",
        "print(mask)"
      ],
      "metadata": {
        "colab": {
          "base_uri": "https://localhost:8080/"
        },
        "id": "ZIcqnq3JrNkg",
        "outputId": "5b2cab91-f744-42e5-e8f1-dd9c7812a722"
      },
      "execution_count": null,
      "outputs": [
        {
          "output_type": "stream",
          "name": "stdout",
          "text": [
            "All of the \"#1 Dad\" mugs in the world change to show the actual ranking of Dads suddenly.\n",
            "\n",
            "Detective David Tapp, who is investigating the disappearance of Marybeth's husband, Joe, has a flashback to his own childhood. It was Tapp's own dad, who was drunk, that was responsible for an accident that left the boy with a facial scar. He wonders what is the old man's mug says. He bets it's very low in the rankings. Marybeth says that Joe was also always drunk and probably crashed his car while driving while intoxicated.\n",
            "\n",
            "But here's the thing. Any mugs that owners were already dead are now blank. Joe's mug isn't blank at all. What's interesting, as Detective Tapp has figured out, \"he's number one!\" was written on it. \"So Joe must still be alive\" Tapp notes, and he runs out of the room to look for him.\n",
            "\n",
            "\"But how can be a drunk husband be the number 1 dad?\" Detective Tapp contemplated. \"It just doesn't make sense. How are the rankings decided?\" There were thoughts running on Detective Tapp's mind as he follows on a clue on Joe's last whereabouts.\n",
            "\n",
            "He stops by the local bar as there were multiple witnesses to Joe's last night before he disappeared. He spoke with a woman who recognized Joe from the picture. \"He was in here last night,\" she said, \"He was drinking way too much, very drunk.\" said the woman.\n",
            "\n",
            "\"Did he say where he's going to go?\" Detective Tapp asked. \n",
            "\n",
            "\"He was talking about his wife and kids,\" the woman said. \"He said that his wife was always complaining about how much he worked, and it made him stressed.\"\n",
            "\n",
            "Detective Tapp leaves the bar and gets a call from his partner. His partner said, \"We found Joe's car on the highway.\" Fearing for the worst, Detective Tapp knew that there must be something wrong. He arrived to the scene and he saw Joe, alive, with a blanket over him. It turned out that Joe had saved a child from a car accident, and he was a hero. That made him the #1 Dad.\n",
            "PPPPPPPPPPPPPPPPPPPPPPPPPPPPPPPPPPPPPPPPPPPPPPPPPPPPPPPPPPPPPPPPPPPPPPPPPPPPPPPPPPPPPPPPPUUUUUUUUUUUUAAAAAAAAAAAAAAAAAAAAAAAAAAAAAAAAAAAAAAAAAAAAAAAAAAAAAAAAAAAAAAAAAAAAAAAAAAAAAAAAAAAAAAAAAAAAAAAAAAAAAAAAAAAAAAAAAAAAUUUUUUUUUUUUUUUUUUUUUUUUUUUUUUUUAAAAAAAAAAAAAAAAAAAAAAAAAAAAAAAAAAAAAAAAAAAAAAAAAAAAAAAAAAAAAAAAAAAAAAAAAAAAAAAAAUUUUUUUUUUUUUUUUUUUUUUUUUUUUUUUUUUUUUUUUUUUUUUUUUUUUUUUUUUUUUUUUUUUUUUUUUUUUUUUUUUUUUUUUUUUUUUUUUUUUUUUUUUUUUUUUUUUUUUUUUUUUUUUUUUUUUUUUUUUUUUUUUUUUUUUUUUUUUAAAAAAAAAAAAAAAAAAAAAAAAAAAAAAAAUUUUUUUUUUUUUUUUUUUUUUUUUUUUUUUUUUUUUUUUUUUUUUUUUUUUUUUUUUUUUUUUUUUUUUUUUUUUUUUUUUUUUUUUUUUUUUUUUUUUUUUUUUUUUUUUUUUUUUUUUUUUUUUUUUUUUUUUUUUUUUUUUUUUUUUUUUUUUUUUUUUUUUUUUAAAAAAAAAAAAAUUAAAAAAAAAAAAAAAAUUUUUUUUUUUUUUUUUUUUUUUUUUUUUAAAAAAAAAAAAAAAAAAAAAAAAAAAAAAAAAAAAAAAAAAAAAAAAAAAAAAAAAUUUUUUUUUUUUUUUUUUUUUUUUUUUUUUUUUUUUUUUUUUUUUUUUUUUUUUUUUUUUUUUUUUUUUUUUUUUUUUUUUUUUUUUUUUUUUUUUUUUUUUUUUUUUUUUUUUAAAAAAAAAAAAAAAAAAAAAAAAAAAAAAUUUUUUUUUUUUUUUUUUUUUUUUUUUUUUUUUUUUUUUUUUUUUUUUUUUUUUUUUUUUUUUUUUUUUUUUUUUUUUUUUUUUUUUUUUUUUUUUUUUUUUUUUUUUUUUUUUUUUUUUUUUUUUUUUUUUUUUUUUUUUUUUUUUUUUUUUUUAAAAAAAAAAAAAAAAAAAAAAAAAAAAAAAAAAAAAAAAAAAAAAAAAAAAUUUUUUUUUUUUUUUAAAAAAAAAAAAAAAAAAAAAAAAAAAAAAAAAAAAAAAAAAAAUUAAAAAAAAAAAAAAAAAAAAAAAAAAAAAAAAAAAAAAAAAAAAAAAAAAAAAAAAAAAAAAAAAAAAAAAAAAAAAAAAUUUUUUUUUUUUUUUUUUUUUUUUUUUUUUUUUUUUUUUUUUUUUUUUUUUUUUUUAAAAAAAAAAAAAAAAAAAAAUUUUAAAAAAAAAAAAAAAAAAAAAAAAAAAAAAAAAAAAAAAAAAAAAAAAAAAAAAAAUUAAAAAAAAAAAAAAAAAAAAAAAAAAAAAAAAAAAAAAAAAAAAAAAAAAAAAAAAAAAAAAAAAAAAAAAAAAAAAAAAAAAAAAAAAAAAAAAAUUUUUUUUUUUUUUUUUUAAAAAAAAAAAAAAAAAAAAAAAAAAAAAAAAAAAAAAAAAAAAAAAAUUUUUUUUUUUUUUUUUUUAAAAAAAAAAAAAAAAAAAAAAAAAAAAAAAAAAAUUUUUUUUUUUUUUUUUUUUUUUUUAAAAAAAAAAAAAAAAAAAAAAAAAAAAAAAAAAAAAAAAAAAAAAAAAAAAAAAUUUUUUUUUUUUUUUUUUUUUUUUUUUUUUUUUUUUUUUUUUUUUUUUAAAAAAAAAAAAAAAAAAAAAAAAUUUUUUUUUUUUUUUUUUUUUUUUUUUUUUUUUUAAAAAAAAAAAAAAAAAAAAAAAAAAAAAAAAAAAAAAAAAAAAAAAUUUUUUUUUUUUUUUUUUUUUUUUUU\n"
          ]
        }
      ]
    },
    {
      "cell_type": "code",
      "source": [
        "len(text), len(mask)"
      ],
      "metadata": {
        "colab": {
          "base_uri": "https://localhost:8080/"
        },
        "id": "trfDn99XvJqV",
        "outputId": "c5416182-b2b0-4a8c-fa6d-9beaee02338a"
      },
      "execution_count": null,
      "outputs": [
        {
          "output_type": "execute_result",
          "data": {
            "text/plain": [
              "(1911, 1911)"
            ]
          },
          "metadata": {},
          "execution_count": 67
        }
      ]
    },
    {
      "cell_type": "markdown",
      "source": [
        "## 2. Classify authors"
      ],
      "metadata": {
        "id": "OA1d2SoNwKHP"
      }
    },
    {
      "cell_type": "code",
      "source": [
        "import nltk\n",
        "nltk.download('punkt')"
      ],
      "metadata": {
        "colab": {
          "base_uri": "https://localhost:8080/"
        },
        "id": "h9UM8lT9yw2d",
        "outputId": "b77d6498-d044-4527-fa5f-1bd524dacc82"
      },
      "execution_count": null,
      "outputs": [
        {
          "output_type": "stream",
          "name": "stdout",
          "text": [
            "[nltk_data] Downloading package punkt to /root/nltk_data...\n",
            "[nltk_data]   Unzipping tokenizers/punkt.zip.\n"
          ]
        },
        {
          "output_type": "execute_result",
          "data": {
            "text/plain": [
              "True"
            ]
          },
          "metadata": {},
          "execution_count": 47
        }
      ]
    },
    {
      "cell_type": "code",
      "source": [
        "import collections\n",
        "from nltk.tokenize import sent_tokenize\n",
        "\n",
        "\n",
        "def identify_author(mask):\n",
        "    if 'P' in mask:\n",
        "        return 'prompt'\n",
        "    elif 'U' in mask and 'A' in mask:\n",
        "        return 'user_and_api'\n",
        "    elif 'U' in mask and 'A' not in mask:\n",
        "        return 'user'\n",
        "    elif 'U' not in mask and 'A' in mask:\n",
        "        return 'api'\n",
        "    else:\n",
        "        raise RuntimeError(f'Could not identify author for this mask: {mask}')\n",
        "\n",
        "\n",
        "def classify_sentences_by_author(text, mask):\n",
        "    sentences_by_author = collections.defaultdict(list)\n",
        "    for sentence_id, sentence in enumerate(sent_tokenize(text.strip())):\n",
        "        if sentence not in text:\n",
        "            print(f'Could not find sentence in text: {sentence}')\n",
        "            continue\n",
        "        index = text.index(sentence)\n",
        "        sentence_mask = mask[index:index + len(sentence)]\n",
        "        author = identify_author(sentence_mask)\n",
        "        sentences_by_author[author].append({\n",
        "            'sentence_id': sentence_id,\n",
        "            'sentence_mask': sentence_mask,\n",
        "            'sentence_author': author,\n",
        "            'sentence_text': sentence,\n",
        "        })\n",
        "    return sentences_by_author"
      ],
      "metadata": {
        "id": "XGmFH8YpwWAD"
      },
      "execution_count": null,
      "outputs": []
    },
    {
      "cell_type": "code",
      "source": [
        "text, mask = get_text_and_mask(events, len(events), remove_prompt=True)  # Set remove_prompt to be true\n",
        "sentences_by_author = classify_sentences_by_author(text, mask)"
      ],
      "metadata": {
        "id": "AiTyRgbbyrus"
      },
      "execution_count": null,
      "outputs": []
    },
    {
      "cell_type": "code",
      "source": [
        "sentences_by_author.keys()"
      ],
      "metadata": {
        "colab": {
          "base_uri": "https://localhost:8080/"
        },
        "id": "C98dKbmiz7Sg",
        "outputId": "5e026f9a-b81b-4d2c-91fd-2a6924291e68"
      },
      "execution_count": null,
      "outputs": [
        {
          "output_type": "execute_result",
          "data": {
            "text/plain": [
              "dict_keys(['user_and_api', 'user', 'api'])"
            ]
          },
          "metadata": {},
          "execution_count": 69
        }
      ]
    },
    {
      "cell_type": "code",
      "source": [
        "sentences_by_author"
      ],
      "metadata": {
        "colab": {
          "base_uri": "https://localhost:8080/"
        },
        "id": "G3L0Sptdzh7A",
        "outputId": "a09e5d50-8a84-4ab2-87ec-f0f2819356fa"
      },
      "execution_count": null,
      "outputs": [
        {
          "output_type": "execute_result",
          "data": {
            "text/plain": [
              "defaultdict(list,\n",
              "            {'api': [{'sentence_author': 'api',\n",
              "               'sentence_id': 14,\n",
              "               'sentence_mask': 'AAAAAAAAAAAAAAAAAAAAAAAAAAAAAA',\n",
              "               'sentence_text': 'How are the rankings decided?\"'},\n",
              "              {'sentence_author': 'api',\n",
              "               'sentence_id': 21,\n",
              "               'sentence_mask': 'AAAAAAAAAAAAAAAAAAAAA',\n",
              "               'sentence_text': 'Detective Tapp asked.'}],\n",
              "             'user': [{'sentence_author': 'user',\n",
              "               'sentence_id': 2,\n",
              "               'sentence_mask': 'UUUUUUUUUUUUUUUUUUUUUUUUUUUUUUUUUUUUUUUUUU',\n",
              "               'sentence_text': \"He wonders what is the old man's mug says.\"},\n",
              "              {'sentence_author': 'user',\n",
              "               'sentence_id': 3,\n",
              "               'sentence_mask': 'UUUUUUUUUUUUUUUUUUUUUUUUUUUUUUUUUUUUUU',\n",
              "               'sentence_text': \"He bets it's very low in the rankings.\"},\n",
              "              {'sentence_author': 'user',\n",
              "               'sentence_id': 5,\n",
              "               'sentence_mask': 'UUUUUUUUUUUUUUUUUUUUU',\n",
              "               'sentence_text': \"But here's the thing.\"},\n",
              "              {'sentence_author': 'user',\n",
              "               'sentence_id': 6,\n",
              "               'sentence_mask': 'UUUUUUUUUUUUUUUUUUUUUUUUUUUUUUUUUUUUUUUUUUUUUUUUUUUUU',\n",
              "               'sentence_text': 'Any mugs that owners were already dead are now blank.'},\n",
              "              {'sentence_author': 'user',\n",
              "               'sentence_id': 7,\n",
              "               'sentence_mask': 'UUUUUUUUUUUUUUUUUUUUUUUUUUUUU',\n",
              "               'sentence_text': \"Joe's mug isn't blank at all.\"},\n",
              "              {'sentence_author': 'user',\n",
              "               'sentence_id': 11,\n",
              "               'sentence_mask': 'UUUUUUUUUUUUUUUUUUUUUUUUUUUUUUUUUUUUUUUUUUUUUUUUUUUUU',\n",
              "               'sentence_text': '\"But how can be a drunk husband be the number 1 dad?\"'},\n",
              "              {'sentence_author': 'user',\n",
              "               'sentence_id': 12,\n",
              "               'sentence_mask': 'UUUUUUUUUUUUUUUUUUUUUUUUUUUU',\n",
              "               'sentence_text': 'Detective Tapp contemplated.'},\n",
              "              {'sentence_author': 'user',\n",
              "               'sentence_id': 13,\n",
              "               'sentence_mask': 'UUUUUUUUUUUUUUUUUUUUUUUUUUUU',\n",
              "               'sentence_text': '\"It just doesn\\'t make sense.'},\n",
              "              {'sentence_author': 'user',\n",
              "               'sentence_id': 15,\n",
              "               'sentence_mask': 'UUUUUUUUUUUUUUUUUUUUUUUUUUUUUUUUUUUUUUUUUUUUUUUUUUUUUUUUUUUUUUUUUUUUUUUUUUUUUUUUUUUUUUUUUUUUUUUUUUUUUUU',\n",
              "               'sentence_text': \"There were thoughts running on Detective Tapp's mind as he follows on a clue on Joe's last whereabouts.\"},\n",
              "              {'sentence_author': 'user',\n",
              "               'sentence_id': 19,\n",
              "               'sentence_mask': 'UUUUUUUUUUUUUUU',\n",
              "               'sentence_text': 'said the woman.'},\n",
              "              {'sentence_author': 'user',\n",
              "               'sentence_id': 20,\n",
              "               'sentence_mask': 'UUUUUUUUUUUUUUUUUUUUUUUUUUUUUUUUUUUU',\n",
              "               'sentence_text': '\"Did he say where he\\'s going to go?\"'},\n",
              "              {'sentence_author': 'user',\n",
              "               'sentence_id': 29,\n",
              "               'sentence_mask': 'UUUUUUUUUUUUUUUUUUUUUUUUU',\n",
              "               'sentence_text': 'That made him the #1 Dad.'}],\n",
              "             'user_and_api': [{'sentence_author': 'user_and_api',\n",
              "               'sentence_id': 0,\n",
              "               'sentence_mask': 'UUUUUUUUUUAAAAAAAAAAAAAAAAAAAAAAAAAAAAAAAAAAAAAAAAAAAAAAAAAAAAAAAAAAAAAAAAAAAAAAAAAAAAAAAAAAAAAAAAAAAAAAAAAAAAAAAAAAAAAAAAAAAA',\n",
              "               'sentence_text': \"Detective David Tapp, who is investigating the disappearance of Marybeth's husband, Joe, has a flashback to his own childhood.\"},\n",
              "              {'sentence_author': 'user_and_api',\n",
              "               'sentence_id': 1,\n",
              "               'sentence_mask': 'UUUUUUUUUUUUUUUUUUUUUUUUUUUUUUUAAAAAAAAAAAAAAAAAAAAAAAAAAAAAAAAAAAAAAAAAAAAAAAAAAAAAAAAAAAAAAAAAAAAAAAAAAAAAAAAA',\n",
              "               'sentence_text': \"It was Tapp's own dad, who was drunk, that was responsible for an accident that left the boy with a facial scar.\"},\n",
              "              {'sentence_author': 'user_and_api',\n",
              "               'sentence_id': 4,\n",
              "               'sentence_mask': 'UUUUUUUUUUUUUUUUUUUUUUUUUUUUUUUUUUUUUUUUUUUUUUUUUUUUUUUUUUUUUUUUUUUUUUUUUUAAAAAAAAAAAAAAAAAAAAAAAAAAAAAAAA',\n",
              "               'sentence_text': 'Marybeth says that Joe was also always drunk and probably crashed his car while driving while intoxicated.'},\n",
              "              {'sentence_author': 'user_and_api',\n",
              "               'sentence_id': 8,\n",
              "               'sentence_mask': 'UUUUUUUUUUUUUUUUUUUUUUUUUUUUUUUUUUUUUUUUUUUUUUUUUUUUUUUUUUUUUAAAAAAAAAAAA',\n",
              "               'sentence_text': 'What\\'s interesting, as Detective Tapp has figured out, \"he\\'s number one!\"'},\n",
              "              {'sentence_author': 'user_and_api',\n",
              "               'sentence_id': 9,\n",
              "               'sentence_mask': 'UUAAAAAAAAAAAAAAAA',\n",
              "               'sentence_text': 'was written on it.'},\n",
              "              {'sentence_author': 'user_and_api',\n",
              "               'sentence_id': 10,\n",
              "               'sentence_mask': 'UUUUUUUUUUUUUUUUUUUUUUUUUUUUAAAAAAAAAAAAAAAAAAAAAAAAAAAAAAAAAAAAAAAAAAAAAAAAAAAAAAAAA',\n",
              "               'sentence_text': '\"So Joe must still be alive\" Tapp notes, and he runs out of the room to look for him.'},\n",
              "              {'sentence_author': 'user_and_api',\n",
              "               'sentence_id': 16,\n",
              "               'sentence_mask': 'UUUUUUUUUUUUUUUUUUUUUUUUUUUUUUUUUUUUUUUUUUUUUUUUUAAAAAAAAAAAAAAAAAAAAAAAAAAAAAAAAAAAAAAAAAAAAAAAAAAAA',\n",
              "               'sentence_text': \"He stops by the local bar as there were multiple witnesses to Joe's last night before he disappeared.\"},\n",
              "              {'sentence_author': 'user_and_api',\n",
              "               'sentence_id': 17,\n",
              "               'sentence_mask': 'UUUUUUUUUUUUUUAAAAAAAAAAAAAAAAAAAAAAAAAAAAAAAAAAAAAAAAAAAA',\n",
              "               'sentence_text': 'He spoke with a woman who recognized Joe from the picture.'},\n",
              "              {'sentence_author': 'user_and_api',\n",
              "               'sentence_id': 18,\n",
              "               'sentence_mask': 'UAAAAAAAAAAAAAAAAAAAAAAAAAAAAAAAAAAAAAAAAAAAAAAAAAAAAAAAAAAAAAAAAAAAAAAAAAAAAAAAAU',\n",
              "               'sentence_text': '\"He was in here last night,\" she said, \"He was drinking way too much, very drunk.\"'},\n",
              "              {'sentence_author': 'user_and_api',\n",
              "               'sentence_id': 22,\n",
              "               'sentence_mask': 'UAAAAAAAAAAAAAAAAAAAAAAAAAAAAAAAAAAAAAAAAAAAAAAAAAAAAAAAA',\n",
              "               'sentence_text': '\"He was talking about his wife and kids,\" the woman said.'},\n",
              "              {'sentence_author': 'user_and_api',\n",
              "               'sentence_id': 23,\n",
              "               'sentence_mask': 'UAAAAAAAAAAAAAAAAAAAAAAAAAAAAAAAAAAAAAAAAAAAAAAAAAAAAAAAAAAAAAAAAAAAAAAAAAAAAAAAAAAAAAAAAAAAAAAAAU',\n",
              "               'sentence_text': '\"He said that his wife was always complaining about how much he worked, and it made him stressed.\"'},\n",
              "              {'sentence_author': 'user_and_api',\n",
              "               'sentence_id': 24,\n",
              "               'sentence_mask': 'UUUUUUUUUUUUUUUAAAAAAAAAAAAAAAAAAAAAAAAAAAAAAAAAAAAAAAAAAAAAAAA',\n",
              "               'sentence_text': 'Detective Tapp leaves the bar and gets a call from his partner.'},\n",
              "              {'sentence_author': 'user_and_api',\n",
              "               'sentence_id': 25,\n",
              "               'sentence_mask': 'UUUUUUUUUUUUUUUUUUAAAAAAAAAAAAAAAAAAAAAAAAAAAAAAAAAAAU',\n",
              "               'sentence_text': 'His partner said, \"We found Joe\\'s car on the highway.\"'},\n",
              "              {'sentence_author': 'user_and_api',\n",
              "               'sentence_id': 26,\n",
              "               'sentence_mask': 'UUUUUUUUUUUUUUUUUUUUUUUAAAAAAAAAAAAAAAAAAAAAAAAAAAAAAAAAAAAAAAAAAAAAAAAAAAAAAA',\n",
              "               'sentence_text': 'Fearing for the worst, Detective Tapp knew that there must be something wrong.'},\n",
              "              {'sentence_author': 'user_and_api',\n",
              "               'sentence_id': 27,\n",
              "               'sentence_mask': 'UUUUUUUUUUUUUUUUUUUUUUUUUUUUUUUUUUUUUUUUUUUUUUUAAAAAAAAAAAAAAAAAAAAAAAA',\n",
              "               'sentence_text': 'He arrived to the scene and he saw Joe, alive, with a blanket over him.'},\n",
              "              {'sentence_author': 'user_and_api',\n",
              "               'sentence_id': 28,\n",
              "               'sentence_mask': 'UUUUUUUUUUUUUUUUUUUUUUUUUUUUUUUUUAAAAAAAAAAAAAAAAAAAAAAAAAAAAAAAAAAAAAAAAAAAAAAA',\n",
              "               'sentence_text': 'It turned out that Joe had saved a child from a car accident, and he was a hero.'}]})"
            ]
          },
          "metadata": {},
          "execution_count": 70
        }
      ]
    },
    {
      "cell_type": "markdown",
      "source": [
        "## 3. Populate `currentDoc` for all events (optional)\n",
        "\n",
        "You might have noticed that the `currentDoc` field is empty by default for all events, unless it is the `system-initialize` event. This is intended as saving `currentDoc` for every event is redundant and easily results in a huge file! However, having this redundancy could be convenient at times. \n",
        "\n",
        "In order to populate `currentDoc` for every event, do the following:"
      ],
      "metadata": {
        "id": "wHOOOA1jewM0"
      }
    },
    {
      "cell_type": "code",
      "source": [
        "events[0], events[1]"
      ],
      "metadata": {
        "id": "lxtyYro7cRsT",
        "colab": {
          "base_uri": "https://localhost:8080/"
        },
        "outputId": "924fb89d-1edd-42b4-fa35-7cbd7c437506"
      },
      "execution_count": null,
      "outputs": [
        {
          "output_type": "execute_result",
          "data": {
            "text/plain": [
              "({'currentCursor': 257,\n",
              "  'currentDoc': 'Following World War III, all the nations of the world agreed to 50 years of strict isolation from one another in order to prevent additional conflicts. 50 years later, the United States comes out of exile, only to learn that no one else went into isolation.\\n',\n",
              "  'currentFrequencyPenalty': '1',\n",
              "  'currentHoverIndex': '',\n",
              "  'currentMaxToken': '30',\n",
              "  'currentN': '5',\n",
              "  'currentPresencePenalty': '0',\n",
              "  'currentSuggestionIndex': 0,\n",
              "  'currentSuggestions': [],\n",
              "  'currentTemperature': '0.75',\n",
              "  'currentTopP': '1',\n",
              "  'cursorRange': '',\n",
              "  'eventName': 'system-initialize',\n",
              "  'eventNum': 0,\n",
              "  'eventSource': 'api',\n",
              "  'eventTimestamp': 1630521397737,\n",
              "  'textDelta': ''},\n",
              " {'currentCursor': 0,\n",
              "  'currentDoc': '',\n",
              "  'currentFrequencyPenalty': '1',\n",
              "  'currentHoverIndex': '',\n",
              "  'currentMaxToken': '30',\n",
              "  'currentN': '5',\n",
              "  'currentPresencePenalty': '0',\n",
              "  'currentSuggestionIndex': 0,\n",
              "  'currentSuggestions': [],\n",
              "  'currentTemperature': '0.75',\n",
              "  'currentTopP': '1',\n",
              "  'cursorRange': {'index': 0, 'length': 257},\n",
              "  'eventName': 'cursor-select',\n",
              "  'eventNum': 1,\n",
              "  'eventSource': 'user',\n",
              "  'eventTimestamp': 1630521405603,\n",
              "  'textDelta': ''})"
            ]
          },
          "metadata": {},
          "execution_count": 5
        }
      ]
    },
    {
      "cell_type": "code",
      "source": [
        "import copy\n",
        "\n",
        "\n",
        "def populate_currentdoc(events):\n",
        "    prompt = events[0]['currentDoc'].strip()\n",
        "\n",
        "    text = prompt\n",
        "    mask = 'P' * len(prompt)  # Prompt\n",
        "    \n",
        "    events_with_currentdoc = copy.deepcopy(events)\n",
        "    for i, event in enumerate(events):\n",
        "        if 'ops' in event['textDelta']:\n",
        "            ops = event['textDelta']['ops']\n",
        "            source = event['eventSource']\n",
        "            text, mask = apply_ops(text, mask, ops, source)\n",
        "        events_with_currentdoc[i]['currentDoc'] = copy.deepcopy(text)\n",
        "\n",
        "    return events_with_currentdoc"
      ],
      "metadata": {
        "id": "5uGYg1NCepCU"
      },
      "execution_count": null,
      "outputs": []
    },
    {
      "cell_type": "code",
      "source": [
        "events_with_currentdoc = populate_currentdoc(events)"
      ],
      "metadata": {
        "id": "s9bcH7Ao0ejJ"
      },
      "execution_count": null,
      "outputs": []
    },
    {
      "cell_type": "code",
      "source": [
        "events_with_currentdoc[0], events_with_currentdoc[1]"
      ],
      "metadata": {
        "colab": {
          "base_uri": "https://localhost:8080/"
        },
        "id": "Uydc4_kv0g7z",
        "outputId": "39df0c71-2f27-480a-894e-facf60b96225"
      },
      "execution_count": null,
      "outputs": [
        {
          "output_type": "execute_result",
          "data": {
            "text/plain": [
              "({'currentCursor': 89,\n",
              "  'currentDoc': 'All of the \"#1 Dad\" mugs in the world change to show the actual ranking of Dads suddenly.',\n",
              "  'currentFrequencyPenalty': '1',\n",
              "  'currentHoverIndex': '',\n",
              "  'currentMaxToken': '30',\n",
              "  'currentN': '5',\n",
              "  'currentPresencePenalty': '0',\n",
              "  'currentSuggestionIndex': 0,\n",
              "  'currentSuggestions': [],\n",
              "  'currentTemperature': '0.75',\n",
              "  'currentTopP': '1',\n",
              "  'cursorRange': '',\n",
              "  'eventName': 'system-initialize',\n",
              "  'eventNum': 0,\n",
              "  'eventSource': 'api',\n",
              "  'eventTimestamp': 1630595640315,\n",
              "  'textDelta': ''},\n",
              " {'currentCursor': 73,\n",
              "  'currentDoc': 'All of the \"#1 Dad\" mugs in the world change to show the actual ranking of Dads suddenly.',\n",
              "  'currentFrequencyPenalty': '1',\n",
              "  'currentHoverIndex': '',\n",
              "  'currentMaxToken': '30',\n",
              "  'currentN': '5',\n",
              "  'currentPresencePenalty': '0',\n",
              "  'currentSuggestionIndex': 0,\n",
              "  'currentSuggestions': [],\n",
              "  'currentTemperature': '0.75',\n",
              "  'currentTopP': '1',\n",
              "  'cursorRange': {'index': 73, 'length': 0},\n",
              "  'eventName': 'cursor-backward',\n",
              "  'eventNum': 1,\n",
              "  'eventSource': 'user',\n",
              "  'eventTimestamp': 1630595652873,\n",
              "  'textDelta': ''})"
            ]
          },
          "metadata": {},
          "execution_count": 65
        }
      ]
    }
  ]
}