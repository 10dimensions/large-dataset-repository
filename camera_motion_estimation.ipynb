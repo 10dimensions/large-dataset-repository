{
  "nbformat": 4,
  "nbformat_minor": 0,
  "metadata": {
    "kernelspec": {
      "display_name": "Python 3",
      "language": "python",
      "name": "python3"
    },
    "language_info": {
      "codemirror_mode": {
        "name": "ipython",
        "version": 3
      },
      "file_extension": ".py",
      "mimetype": "text/x-python",
      "name": "python",
      "nbconvert_exporter": "python",
      "pygments_lexer": "ipython3",
      "version": "3.7.3"
    },
    "colab": {
      "provenance": [],
      "include_colab_link": true
    }
  },
  "cells": [
    {
      "cell_type": "markdown",
      "metadata": {
        "id": "view-in-github",
        "colab_type": "text"
      },
      "source": [
        "<a href=\"https://colab.research.google.com/github/10dimensions/large-notebook-repository/blob/master/camera_motion_estimation.ipynb\" target=\"_parent\"><img src=\"https://colab.research.google.com/assets/colab-badge.svg\" alt=\"Open In Colab\"/></a>"
      ]
    },
    {
      "cell_type": "code",
      "metadata": {
        "id": "VQF9cOrF-EH-"
      },
      "source": [
        "import os\n",
        "import time\n",
        "import math\n",
        "import cv2 as cv\n",
        "import numpy as np\n",
        "import matplotlib.pyplot as plt\n",
        "from scipy.stats import mode\n",
        "from sklearn.cluster import KMeans"
      ],
      "execution_count": null,
      "outputs": []
    },
    {
      "cell_type": "code",
      "metadata": {
        "id": "xayDKJXF-EIC"
      },
      "source": [
        "# This function allows to calculate optical flow trajectories (Don't remember where I actually found the source code)\n",
        "# The code also allows to specify step value. The greater the value the more sparse the calculation and visualisation\n",
        "def calc_angl_n_transl(img, flow, step=8):\n",
        "    \n",
        "    '''\n",
        "    input:\n",
        "        - img - numpy array - image\n",
        "        - flow - numpy array - optical flow\n",
        "        - step - int - measurement of sparsity\n",
        "    output:\n",
        "        - angles - numpy array - array of angles of optical flow lines to the x-axis\n",
        "        - translation - numpy array - array of length values for optical flow lines\n",
        "        - lines - list - list of actual optical flow lines (where each line represents a trajectory of \n",
        "        a particular point in the image)\n",
        "    '''\n",
        "\n",
        "    angles = []\n",
        "    translation = []\n",
        "\n",
        "    h, w = img.shape[:2]\n",
        "    y, x = np.mgrid[step/2:h:step, step/2:w:step].reshape(2,-1).astype(int)\n",
        "    fx, fy = flow[y,x].T\n",
        "    lines = np.vstack([x, y, x+fx, y+fy]).T.reshape(-1, 2, 2)\n",
        "    lines = np.int32(lines + 0.5)\n",
        "    \n",
        "    for (x1, y1), (x2, y2) in lines:\n",
        "        angle = math.atan2(- int(y2) + int(y1), int(x2) - int(x1)) * 180.0 / np.pi\n",
        "        length = math.hypot(int(x2) - int(x1), - int(y2) + int(y1))\n",
        "        translation.append(length)\n",
        "        angles.append(angle)\n",
        "    \n",
        "    return np.array(angles), np.array(translation), lines"
      ],
      "execution_count": null,
      "outputs": []
    },
    {
      "cell_type": "code",
      "metadata": {
        "id": "iQtX6a7g-EIF"
      },
      "source": [
        "# function for drawing optical flow trajectories \n",
        "def draw_flow(img, lines):\n",
        "    \n",
        "    '''\n",
        "    input:\n",
        "        - img - numpy array - image to draw on\n",
        "        - lines - list - list of lines to draw\n",
        "        - BGR image with visualised optical flow\n",
        "    '''\n",
        "\n",
        "    width_delay_ratio = 6\n",
        "    height_delay_ratio = 5\n",
        "    \n",
        "    h, w = img.shape[:2]\n",
        "        \n",
        "    vis = cv.cvtColor(img, cv.COLOR_GRAY2BGR)\n",
        "    cv.polylines(vis, lines, 0, (0, 255, 0))\n",
        "    \n",
        "    for (x1, y1), (x2, y2) in lines:\n",
        "        cv.circle(vis, (x1, y1), 1, (0, 255, 0), -1)\n",
        "\n",
        "    return vis"
      ],
      "execution_count": null,
      "outputs": []
    },
    {
      "cell_type": "code",
      "metadata": {
        "id": "UjcfPABZ-EII"
      },
      "source": [
        "# function that analyses optical flow information\n",
        "def estimate_motion(angles, translation):\n",
        "    \n",
        "    '''\n",
        "    Input:\n",
        "        - angles - numpy array - array of angles of optical flow lines to the x-axis\n",
        "        - translation - numpy array - array of length values for optical flow lines\n",
        "    Output:\n",
        "        - ang_mode - float - mode of angles of trajectories. can be used to determine the direction of movement\n",
        "        - transl_mode - float - mode of translation values \n",
        "        - ratio - float - shows how different values of translation are across a pair of frames. allows to \n",
        "        conclude about the type of movement\n",
        "        - steady - bool - show if there is almost no movement on the video at the moment\n",
        "    '''\n",
        "    \n",
        "    # Get indices of nonzero opical flow values. We'll use just them\n",
        "    nonzero = np.where(translation > 0)\n",
        "    \n",
        "    # Whether non-zero value is close to zero or not. Should be set as a thershold\n",
        "    steady = np.mean(translation) < 0.5\n",
        "    \n",
        "    translation = translation[nonzero]\n",
        "    transl_mode = mode(translation)[0][0]\n",
        "    \n",
        "    angles = angles[nonzero]\n",
        "    ang_mode = mode(angles)[0][0]\n",
        "    \n",
        "    # cutt off twenty percent of the sorted list from both sides to get rid off outliers\n",
        "    ten_percent = len(translation) // 10\n",
        "    translations = sorted(translation)\n",
        "    translations = translations[ten_percent: len(translations) - ten_percent]\n",
        "\n",
        "    # cluster optical flow values and find out how different these cluster are\n",
        "    # big difference (i.e. big ratio value) corresponds to panning, otherwise - trucking\n",
        "    inliers = [tuple([inlier]) for inlier in translations]\n",
        "    k_means = KMeans(n_clusters=3, random_state=0).fit(inliers)\n",
        "    centers = sorted(k_means.cluster_centers_)\n",
        "    ratio = centers[0] / centers[-1]\n",
        "    \n",
        "    return ang_mode, transl_mode, ratio, steady"
      ],
      "execution_count": null,
      "outputs": []
    },
    {
      "cell_type": "code",
      "metadata": {
        "id": "RgwoOFrX-EIL"
      },
      "source": [
        "# specify directory and file name \n",
        "dir_path = \"new_video\"\n",
        "filename = \"3.mp4\""
      ],
      "execution_count": null,
      "outputs": []
    },
    {
      "cell_type": "code",
      "metadata": {
        "id": "RmRiTGKg-EIN"
      },
      "source": [
        "# initialise stream from video\n",
        "cap = cv.VideoCapture(os.path.join(dir_path, filename))\n",
        "ret, prvs = cap.read()"
      ],
      "execution_count": null,
      "outputs": []
    },
    {
      "cell_type": "code",
      "metadata": {
        "id": "tNV-VFni-EIQ"
      },
      "source": [
        "# initialise video writer\n",
        "frameRate = int(cap.get(cv.CAP_PROP_FPS))\n",
        "codec = cv.VideoWriter_fourcc(*'XVID')\n",
        "save_name = \"motion_\" + filename[:-4] + \".avi\"\n",
        "outputStream = cv.VideoWriter(save_name, codec, frameRate, (int(cap.get(3)),int(cap.get(4))))"
      ],
      "execution_count": null,
      "outputs": []
    },
    {
      "cell_type": "code",
      "metadata": {
        "id": "kNgmz41i-EIT"
      },
      "source": [
        "# set parameters for text drawn on the frames\n",
        "font = cv.FONT_HERSHEY_COMPLEX\n",
        "fontScale = 2\n",
        "fontColor = (68, 148, 213)\n",
        "lineType  = 3"
      ],
      "execution_count": null,
      "outputs": []
    },
    {
      "cell_type": "code",
      "metadata": {
        "id": "vmTLIEq7-EIX"
      },
      "source": [
        "# initialise text variables to draw on frames\n",
        "angle = 'None'\n",
        "translation = 'None'\n",
        "motion = 'None'\n",
        "motion_type = 'None'\n",
        "# set counter value\n",
        "count = 1"
      ],
      "execution_count": null,
      "outputs": []
    },
    {
      "cell_type": "code",
      "metadata": {
        "id": "0smH54xg-EIa"
      },
      "source": [
        "# main loop\n",
        "while True:\n",
        "    # read a new frame\n",
        "    ret, nxt = cap.read()\n",
        "    \n",
        "    if not ret:\n",
        "        break\n",
        "        \n",
        "    # if the image is colored\n",
        "    if len(prvs.shape) == 3:\n",
        "        prvs_gray = cv.cvtColor(prvs.copy(), cv.COLOR_BGR2GRAY)\n",
        "        next_gray = cv.cvtColor(nxt.copy(), cv.COLOR_BGR2GRAY)\n",
        "    else:\n",
        "        prvs_gray = prvs.copy()\n",
        "        next_gray = nxt.copy()\n",
        "        \n",
        "    if count == 3:\n",
        "        \n",
        "        # calculate optical flow\n",
        "        flow = cv.calcOpticalFlowFarneback(prvs_gray, next_gray, None, 0.5, 3, 15, 3, 5, 1.2, 0)\n",
        "\n",
        "        # calculate trajectories and analyse them\n",
        "        angles, transl, lines = calc_angl_n_transl(prvs_gray, flow)\n",
        "        ang_mode, transl_mode, ratio, steady = estimate_motion(angles, transl)\n",
        "\n",
        "        # draw trajectories on the frame\n",
        "#         next_gray = draw_flow(next_gray.copy(), lines)\n",
        "        next_gray = cv.cvtColor(next_gray.copy(), cv.COLOR_GRAY2BGR)\n",
        "\n",
        "#         angle = str(round(ang_mode, 2))\n",
        "#         translation = str(round(transl_mode, 2))\n",
        "        motion = 'No motion' if steady else round(ratio[0], 2)\n",
        "        if isinstance(motion, float):\n",
        "            motion_type = 'Panning' if motion > 0.6 else 'Trucking'\n",
        "            \n",
        "        count = 0\n",
        "        \n",
        "    \n",
        "    # put values on the frame\n",
        "#     cv.putText(next_gray, angle, (50,100), font, fontScale, fontColor, lineType)\n",
        "#     cv.putText(next_gray, translation, (50,150), font, fontScale, fontColor, lineType)\n",
        "    cv.putText(next_gray, str(motion), (50,90), font, fontScale, fontColor, lineType)\n",
        "    cv.putText(next_gray, motion_type, (50,150), font, fontScale, fontColor, lineType)\n",
        "    \n",
        "    # write the frame to the new video\n",
        "    outputStream.write(next_gray)\n",
        "    \n",
        "    # update the previous frame\n",
        "    prvs = nxt.copy()\n",
        "    count += 1\n",
        "\n",
        "outputStream.release()"
      ],
      "execution_count": null,
      "outputs": []
    }
  ]
}