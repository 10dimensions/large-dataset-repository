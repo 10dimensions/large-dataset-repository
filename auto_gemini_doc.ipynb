{
  "nbformat": 4,
  "nbformat_minor": 0,
  "metadata": {
    "colab": {
      "provenance": [],
      "authorship_tag": "ABX9TyMoeqtkJVt7RABbY6Zuf9ar",
      "include_colab_link": true
    },
    "kernelspec": {
      "name": "python3",
      "display_name": "Python 3"
    },
    "language_info": {
      "name": "python"
    }
  },
  "cells": [
    {
      "cell_type": "markdown",
      "metadata": {
        "id": "view-in-github",
        "colab_type": "text"
      },
      "source": [
        "<a href=\"https://colab.research.google.com/github/10dimensions/large-notebook-repository/blob/master/auto_gemini_doc.ipynb\" target=\"_parent\"><img src=\"https://colab.research.google.com/assets/colab-badge.svg\" alt=\"Open In Colab\"/></a>"
      ]
    },
    {
      "cell_type": "code",
      "source": [
        "!pip install docx\n",
        "!pip install python-docx"
      ],
      "metadata": {
        "colab": {
          "base_uri": "https://localhost:8080/"
        },
        "id": "4G_bHi1e4_0x",
        "outputId": "9c6de20b-7386-47d3-9993-2b8b8d92260d"
      },
      "execution_count": 4,
      "outputs": [
        {
          "output_type": "stream",
          "name": "stdout",
          "text": [
            "Requirement already satisfied: docx in /usr/local/lib/python3.10/dist-packages (0.2.4)\n",
            "Requirement already satisfied: lxml in /usr/local/lib/python3.10/dist-packages (from docx) (5.3.0)\n",
            "Requirement already satisfied: Pillow>=2.0 in /usr/local/lib/python3.10/dist-packages (from docx) (11.0.0)\n",
            "Collecting python-docx\n",
            "  Downloading python_docx-1.1.2-py3-none-any.whl.metadata (2.0 kB)\n",
            "Requirement already satisfied: lxml>=3.1.0 in /usr/local/lib/python3.10/dist-packages (from python-docx) (5.3.0)\n",
            "Requirement already satisfied: typing-extensions>=4.9.0 in /usr/local/lib/python3.10/dist-packages (from python-docx) (4.12.2)\n",
            "Downloading python_docx-1.1.2-py3-none-any.whl (244 kB)\n",
            "\u001b[2K   \u001b[90m━━━━━━━━━━━━━━━━━━━━━━━━━━━━━━━━━━━━━━━━\u001b[0m \u001b[32m244.3/244.3 kB\u001b[0m \u001b[31m15.9 MB/s\u001b[0m eta \u001b[36m0:00:00\u001b[0m\n",
            "\u001b[?25hInstalling collected packages: python-docx\n",
            "Successfully installed python-docx-1.1.2\n"
          ]
        }
      ]
    },
    {
      "cell_type": "code",
      "source": [
        "import os\n",
        "from google.cloud import aiplatform\n",
        "from docx import Document"
      ],
      "metadata": {
        "id": "BZVvvp9i4q3D"
      },
      "execution_count": 5,
      "outputs": []
    },
    {
      "cell_type": "code",
      "source": [
        "import google.generativeai as genai\n",
        "from google.genai import types"
      ],
      "metadata": {
        "id": "kOkULHRG4uO7"
      },
      "execution_count": 11,
      "outputs": []
    },
    {
      "cell_type": "code",
      "execution_count": 24,
      "metadata": {
        "id": "pZBDFhl14iXz"
      },
      "outputs": [],
      "source": [
        "# Set up the Google Cloud project and model ID\n",
        "\n",
        "#PROJECT_ID = \"your-google-cloud-project-id\"\n",
        "#LOCATION = \"us-central1\"  # Set location of Gemini model (check GCP docs)\n",
        "\n",
        "API_KEY = \"xyzz\"\n",
        "MODEL_ID = \"gemini-1.5-flash\"  # Assuming we're using the Gemini model\n",
        "\n",
        "# Define the prompts for each chapter of the book\n",
        "prompts = {\n",
        "    \"Chapter 1\": \"Write an introduction to the Pali language, its origins, and its importance in Buddhist teachings.\",\n",
        "    \"Chapter 2\": \"Explain the Pali alphabet and pronunciation rules with examples.\",\n",
        "    \"Chapter 3\": \"Provide an introduction to basic Pali grammar, including noun declensions and verb conjugations.\",\n",
        "    \"Chapter 4\": \"List core Pali vocabulary and common phrases used in Buddhist practices.\",\n",
        "    \"Chapter 5\": \"Explain how Pali grammar is used in the context of Buddhist texts.\",\n",
        "    \"Chapter 6\": \"Provide an overview of the Pali Canon, including key texts like the Dhammapada and Jataka Tales.\",\n",
        "    \"Chapter 7\": \"Explain Pali syntax and translation basics.\",\n",
        "    \"Chapter 8\": \"Describe the role of Pali in Buddhist practice, including meditation and chanting.\",\n",
        "    \"Chapter 9\": \"List resources for further study of Pali language, including books and online tools.\"\n",
        "}\n",
        "\n"
      ]
    },
    {
      "cell_type": "code",
      "source": [
        "genai.configure(api_key=API_KEY)\n",
        "model = genai.GenerativeModel(MODEL_ID)\n",
        "\n",
        "#print(model)\n"
      ],
      "metadata": {
        "id": "pt5JYqph5WxM"
      },
      "execution_count": 16,
      "outputs": []
    },
    {
      "cell_type": "code",
      "source": [
        "\n",
        "response = model.generate_content(\"Explain how AI works\")\n",
        "print(response.text)"
      ],
      "metadata": {
        "colab": {
          "base_uri": "https://localhost:8080/",
          "height": 573
        },
        "id": "5nopVdxS8Q5L",
        "outputId": "dc4456d6-2a85-4d2f-a83d-97595ddc7219"
      },
      "execution_count": 17,
      "outputs": [
        {
          "output_type": "stream",
          "name": "stdout",
          "text": [
            "Artificial intelligence (AI) doesn't work in a single, unified way.  Instead, it encompasses a broad range of techniques and approaches, all aiming to create systems that can perform tasks that typically require human intelligence.  Here's a breakdown of some core concepts:\n",
            "\n",
            "**1. Machine Learning (ML):**  This is the most prevalent approach to AI today.  Instead of being explicitly programmed with rules, ML systems learn from data.  They identify patterns, make predictions, and improve their performance over time based on the data they're exposed to.  Key components include:\n",
            "\n",
            "* **Training Data:**  A large dataset used to teach the algorithm.  The quality and quantity of this data significantly impact the AI's performance.\n",
            "* **Algorithms:**  Mathematical procedures that enable the system to learn from the data.  Different algorithms are suited for different tasks (e.g., classification, regression, clustering).\n",
            "* **Model:**  The output of the learning process.  This is essentially a representation of the patterns discovered in the data, which the AI can use to make predictions or decisions on new, unseen data.\n",
            "* **Evaluation:**  Assessing the model's performance using metrics like accuracy, precision, and recall.  This helps refine the model or the training process.\n",
            "\n",
            "**Common types of Machine Learning:**\n",
            "\n",
            "* **Supervised Learning:**  The algorithm is trained on labeled data (data where the correct answer is already known).  Examples include image classification (labeling images as \"cat\" or \"dog\") and spam detection.\n",
            "* **Unsupervised Learning:**  The algorithm is trained on unlabeled data and tries to find structure or patterns in the data on its own.  Examples include clustering similar customers together or recommending items based on purchase history.\n",
            "* **Reinforcement Learning:**  The algorithm learns through trial and error, receiving rewards or penalties based on its actions.  This is often used in robotics and game playing (e.g., AlphaGo).\n",
            "\n",
            "**2. Deep Learning (DL):** A subset of machine learning that uses artificial neural networks with multiple layers (hence \"deep\"). These networks are inspired by the structure and function of the human brain.  Deep learning excels at tasks involving complex patterns and large datasets, such as image recognition, natural language processing, and speech recognition.\n",
            "\n",
            "**3. Natural Language Processing (NLP):**  Focuses on enabling computers to understand, interpret, and generate human language.  This includes tasks like machine translation, sentiment analysis, chatbots, and text summarization.\n",
            "\n",
            "**4. Computer Vision:**  Enables computers to \"see\" and interpret images and videos.  This is used in applications like self-driving cars, facial recognition, medical image analysis, and object detection.\n",
            "\n",
            "**5. Expert Systems:**  These are rule-based systems designed to mimic the decision-making ability of a human expert in a specific domain.  They use a knowledge base of facts and rules to reach conclusions.  While less prevalent now, they remain useful in specific applications.\n",
            "\n",
            "\n",
            "**How it all works together:**\n",
            "\n",
            "An AI system might combine several of these techniques. For instance, a self-driving car uses computer vision to perceive its surroundings, deep learning to process that information, and reinforcement learning to learn how to navigate safely.  The data used to train these components is crucial, and the entire system is iterative, constantly improving through feedback and further training.\n",
            "\n",
            "It's important to remember that AI is not sentient or conscious.  It's a powerful tool that can automate tasks, analyze data, and make predictions, but it operates based on algorithms and data, not understanding or intention in the human sense.\n",
            "\n"
          ]
        }
      ]
    },
    {
      "cell_type": "code",
      "source": [
        "# Function to generate content from Gemini API\n",
        "def generate_content_with_gemini(prompt):\n",
        "    '''\n",
        "    client = aiplatform.gapic.PredictionServiceClient()\n",
        "\n",
        "    # Prepare the request payload for Gemini model\n",
        "    endpoint = f\"projects/{PROJECT_ID}/locations/{LOCATION}/models/{MODEL_ID}\"\n",
        "\n",
        "    # Request format: Prompt should be passed as input\n",
        "    parameters = {\n",
        "        \"temperature\": 0.7,  # Adjust the temperature for creativity\n",
        "        \"max_output_tokens\": 1000  # Limit the number of tokens in the response\n",
        "    }\n",
        "\n",
        "    # Make a request to the Gemini model\n",
        "    response = client.predict(endpoint=endpoint, instances=[{\"content\": prompt}], parameters=parameters)\n",
        "\n",
        "    # Extract generated content from the response\n",
        "    generated_text = response.predictions[0][\"content\"]\n",
        "    '''\n",
        "\n",
        "    response = model.generate_content(prompt)\n",
        "\n",
        "    return response.text #generated_text"
      ],
      "metadata": {
        "id": "CpsBGUzl73fq"
      },
      "execution_count": 22,
      "outputs": []
    },
    {
      "cell_type": "code",
      "source": [
        "# Function to create a DOCX file with content for each chapter\n",
        "def create_docx(chapter_title, chapter_content, output_dir=\"output\"):\n",
        "    # Ensure output directory exists\n",
        "    if not os.path.exists(output_dir):\n",
        "        os.makedirs(output_dir)\n",
        "\n",
        "    # Create a new Document object\n",
        "    doc = Document()\n",
        "    doc.add_heading(chapter_title, 0)  # Title of the Chapter\n",
        "\n",
        "    # Add the generated content for the chapter\n",
        "    doc.add_paragraph(chapter_content)\n",
        "\n",
        "    # Save the document as a .docx file\n",
        "    doc_path = os.path.join(output_dir, f\"{chapter_title.replace(' ', '_')}.docx\")\n",
        "    doc.save(doc_path)\n",
        "    print(f\"Saved {chapter_title} as {doc_path}\")"
      ],
      "metadata": {
        "id": "gBIebQ0J7yqi"
      },
      "execution_count": 19,
      "outputs": []
    },
    {
      "cell_type": "code",
      "source": [
        "# Main workflow to generate and compile the book content\n",
        "def compile_book():\n",
        "    for chapter_title, prompt in prompts.items():\n",
        "        # Step 1: Generate content for the chapter using Gemini\n",
        "        print(f\"Generating content for {chapter_title}...\")\n",
        "        chapter_content = generate_content_with_gemini(prompt)\n",
        "\n",
        "        # Step 2: Save the generated content in a .docx file\n",
        "        create_docx(chapter_title, chapter_content)\n",
        "\n",
        "    print(\"\\nBook compilation complete!\")\n",
        "\n",
        "# Run the book compilation process\n",
        "if __name__ == \"__main__\":\n",
        "    compile_book()"
      ],
      "metadata": {
        "colab": {
          "base_uri": "https://localhost:8080/",
          "height": 374
        },
        "id": "toQo8g1V7q6-",
        "outputId": "564b42cb-6878-47eb-e684-fbbf8d9172cb"
      },
      "execution_count": 23,
      "outputs": [
        {
          "output_type": "stream",
          "name": "stdout",
          "text": [
            "Generating content for Chapter 1...\n",
            "Saved Chapter 1 as output/Chapter_1.docx\n",
            "Generating content for Chapter 2...\n",
            "Saved Chapter 2 as output/Chapter_2.docx\n",
            "Generating content for Chapter 3...\n",
            "Saved Chapter 3 as output/Chapter_3.docx\n",
            "Generating content for Chapter 4...\n",
            "Saved Chapter 4 as output/Chapter_4.docx\n",
            "Generating content for Chapter 5...\n",
            "Saved Chapter 5 as output/Chapter_5.docx\n",
            "Generating content for Chapter 6...\n",
            "Saved Chapter 6 as output/Chapter_6.docx\n",
            "Generating content for Chapter 7...\n",
            "Saved Chapter 7 as output/Chapter_7.docx\n",
            "Generating content for Chapter 8...\n",
            "Saved Chapter 8 as output/Chapter_8.docx\n",
            "Generating content for Chapter 9...\n",
            "Saved Chapter 9 as output/Chapter_9.docx\n",
            "\n",
            "Book compilation complete!\n"
          ]
        }
      ]
    }
  ]
}