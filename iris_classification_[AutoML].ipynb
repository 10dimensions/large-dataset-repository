{
  "nbformat": 4,
  "nbformat_minor": 0,
  "metadata": {
    "colab": {
      "name": "iris_classification [AutoML].ipynb",
      "provenance": [],
      "authorship_tag": "ABX9TyMSGlt5Rx2H+zoJf1qSGOWJ",
      "include_colab_link": true
    },
    "kernelspec": {
      "name": "python3",
      "display_name": "Python 3"
    },
    "accelerator": "TPU"
  },
  "cells": [
    {
      "cell_type": "markdown",
      "metadata": {
        "id": "view-in-github",
        "colab_type": "text"
      },
      "source": [
        "<a href=\"https://colab.research.google.com/github/10dimensions/large-dataset-repository/blob/master/iris_classification_%5BAutoML%5D.ipynb\" target=\"_parent\"><img src=\"https://colab.research.google.com/assets/colab-badge.svg\" alt=\"Open In Colab\"/></a>"
      ]
    },
    {
      "cell_type": "code",
      "metadata": {
        "id": "JmkdQJhY_p48",
        "colab_type": "code",
        "colab": {}
      },
      "source": [
        "!pip install mljar-supervised"
      ],
      "execution_count": 0,
      "outputs": []
    },
    {
      "cell_type": "code",
      "metadata": {
        "id": "sOgjIste_53f",
        "colab_type": "code",
        "colab": {}
      },
      "source": [
        "import pandas as pd\n",
        "import numpy as np\n",
        "from sklearn import datasets\n",
        "from sklearn.model_selection import train_test_split\n",
        "from supervised.automl import AutoML"
      ],
      "execution_count": 0,
      "outputs": []
    },
    {
      "cell_type": "code",
      "metadata": {
        "id": "2UuBOZqBAUKE",
        "colab_type": "code",
        "colab": {}
      },
      "source": [
        "data = datasets.load_iris()\n",
        "X = pd.DataFrame(data[\"data\"], columns=data[\"feature_names\"])\n",
        "y = pd.Series(data[\"target\"], name=\"target\").map({i:v for i, v in enumerate(data[\"target_names\"])})"
      ],
      "execution_count": 0,
      "outputs": []
    },
    {
      "cell_type": "code",
      "metadata": {
        "id": "BHrerJhxAbeK",
        "colab_type": "code",
        "colab": {
          "base_uri": "https://localhost:8080/",
          "height": 206
        },
        "outputId": "d21a3d01-cf4b-417c-946a-c50a50d6a7c2"
      },
      "source": [
        "X.head()"
      ],
      "execution_count": 6,
      "outputs": [
        {
          "output_type": "execute_result",
          "data": {
            "text/html": [
              "<div>\n",
              "<style scoped>\n",
              "    .dataframe tbody tr th:only-of-type {\n",
              "        vertical-align: middle;\n",
              "    }\n",
              "\n",
              "    .dataframe tbody tr th {\n",
              "        vertical-align: top;\n",
              "    }\n",
              "\n",
              "    .dataframe thead th {\n",
              "        text-align: right;\n",
              "    }\n",
              "</style>\n",
              "<table border=\"1\" class=\"dataframe\">\n",
              "  <thead>\n",
              "    <tr style=\"text-align: right;\">\n",
              "      <th></th>\n",
              "      <th>sepal length (cm)</th>\n",
              "      <th>sepal width (cm)</th>\n",
              "      <th>petal length (cm)</th>\n",
              "      <th>petal width (cm)</th>\n",
              "    </tr>\n",
              "  </thead>\n",
              "  <tbody>\n",
              "    <tr>\n",
              "      <th>0</th>\n",
              "      <td>5.1</td>\n",
              "      <td>3.5</td>\n",
              "      <td>1.4</td>\n",
              "      <td>0.2</td>\n",
              "    </tr>\n",
              "    <tr>\n",
              "      <th>1</th>\n",
              "      <td>4.9</td>\n",
              "      <td>3.0</td>\n",
              "      <td>1.4</td>\n",
              "      <td>0.2</td>\n",
              "    </tr>\n",
              "    <tr>\n",
              "      <th>2</th>\n",
              "      <td>4.7</td>\n",
              "      <td>3.2</td>\n",
              "      <td>1.3</td>\n",
              "      <td>0.2</td>\n",
              "    </tr>\n",
              "    <tr>\n",
              "      <th>3</th>\n",
              "      <td>4.6</td>\n",
              "      <td>3.1</td>\n",
              "      <td>1.5</td>\n",
              "      <td>0.2</td>\n",
              "    </tr>\n",
              "    <tr>\n",
              "      <th>4</th>\n",
              "      <td>5.0</td>\n",
              "      <td>3.6</td>\n",
              "      <td>1.4</td>\n",
              "      <td>0.2</td>\n",
              "    </tr>\n",
              "  </tbody>\n",
              "</table>\n",
              "</div>"
            ],
            "text/plain": [
              "   sepal length (cm)  sepal width (cm)  petal length (cm)  petal width (cm)\n",
              "0                5.1               3.5                1.4               0.2\n",
              "1                4.9               3.0                1.4               0.2\n",
              "2                4.7               3.2                1.3               0.2\n",
              "3                4.6               3.1                1.5               0.2\n",
              "4                5.0               3.6                1.4               0.2"
            ]
          },
          "metadata": {
            "tags": []
          },
          "execution_count": 6
        }
      ]
    },
    {
      "cell_type": "code",
      "metadata": {
        "id": "CQ-QU7NJAd5u",
        "colab_type": "code",
        "colab": {}
      },
      "source": [
        "X_train, X_test, y_train, y_test = train_test_split(X, y, test_size=0.1)"
      ],
      "execution_count": 0,
      "outputs": []
    },
    {
      "cell_type": "code",
      "metadata": {
        "id": "xi4hh8a2A7Gk",
        "colab_type": "code",
        "colab": {
          "base_uri": "https://localhost:8080/",
          "height": 313
        },
        "outputId": "e8390853-c7a6-4de9-ac70-35fe249f4f69"
      },
      "source": [
        "automl = AutoML(algorithms=[\"Decision Tree\", \"Linear\", \"Random Forest\"],\n",
        "                total_time_limit=5*60)\n",
        "automl.fit(X_train, y_train)"
      ],
      "execution_count": 8,
      "outputs": [
        {
          "output_type": "stream",
          "text": [
            "Create directory AutoML_1\n",
            "AutoML task to be solved: multiclass_classification\n",
            "AutoML will use algorithms: ['Decision Tree', 'Linear', 'Random Forest']\n",
            "AutoML will optimize for metric: logloss\n",
            "AutoML will try to check about 33 models\n",
            "Decision Tree final logloss 0.5558174150311415 time 21.41 seconds\n",
            "Decision Tree final logloss 0.5335197961413827 time 23.5 seconds\n"
          ],
          "name": "stdout"
        },
        {
          "output_type": "stream",
          "text": [
            "Precision and F-score are ill-defined and being set to 0.0 in labels with no predicted samples. Use `zero_division` parameter to control this behavior.\n"
          ],
          "name": "stderr"
        },
        {
          "output_type": "stream",
          "text": [
            "Decision Tree final logloss 0.4611751673488167 time 14.25 seconds\n",
            "Linear final logloss 0.16500046733521845 time 21.96 seconds\n",
            "Random Forest final logloss 0.11065101210448194 time 36.84 seconds\n",
            "Random Forest final logloss 0.25119594030180115 time 37.13 seconds\n",
            "Random Forest final logloss 0.2971764791595174 time 36.84 seconds\n",
            "Random Forest final logloss 0.26027829085763227 time 35.33 seconds\n",
            "Ensemble final logloss 0.10966379456424344 time 0.24 seconds\n"
          ],
          "name": "stdout"
        }
      ]
    },
    {
      "cell_type": "code",
      "metadata": {
        "id": "-u_QAD5zHHEO",
        "colab_type": "code",
        "colab": {
          "base_uri": "https://localhost:8080/",
          "height": 311
        },
        "outputId": "7a80b4f7-5416-4517-b422-2126f207ef03"
      },
      "source": [
        "y_predicted = automl.predict(X_test)\n",
        "\n",
        "print(pd.DataFrame({\"Predicted\": y_predicted[\"label\"], \"Target\": np.array(y_test)}))"
      ],
      "execution_count": 9,
      "outputs": [
        {
          "output_type": "stream",
          "text": [
            "     Predicted      Target\n",
            "0       setosa      setosa\n",
            "1       setosa      setosa\n",
            "2       setosa      setosa\n",
            "3    virginica   virginica\n",
            "4    virginica   virginica\n",
            "5   versicolor  versicolor\n",
            "6   versicolor  versicolor\n",
            "7    virginica   virginica\n",
            "8    virginica   virginica\n",
            "9    virginica   virginica\n",
            "10      setosa      setosa\n",
            "11      setosa      setosa\n",
            "12   virginica   virginica\n",
            "13   virginica   virginica\n",
            "14   virginica   virginica\n"
          ],
          "name": "stdout"
        }
      ]
    }
  ]
}